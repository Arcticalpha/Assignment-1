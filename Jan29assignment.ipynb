{
 "cells": [
  {
   "cell_type": "markdown",
   "id": "5d8bdacf-4bf6-496c-a341-0e8fc5763939",
   "metadata": {},
   "source": [
    "Ans 1) \n",
    "\n",
    "* Python was developed was Guido Van Rossum"
   ]
  },
  {
   "cell_type": "markdown",
   "id": "932fc260-ee5b-4f51-a574-09b7dab682a4",
   "metadata": {},
   "source": [
    "Ans 2) \n",
    "* Python supports several programming paradigms, including:\n",
    "\n",
    "1. Procedural programming\n",
    "2. Object-oriented programming (OOP)\n",
    "3. Functional programming\n",
    "4. Event-driven programming\n",
    "5. Concurrent programming"
   ]
  },
  {
   "cell_type": "markdown",
   "id": "1305bec3-112f-4300-8a1b-3a6e594b988d",
   "metadata": {},
   "source": [
    "Ans 3)\n",
    "\n",
    "* Yes, Python is a case-sensitive language when dealing with identifiers."
   ]
  },
  {
   "cell_type": "markdown",
   "id": "df3d9c33-48de-4787-927d-d50726b65803",
   "metadata": {},
   "source": [
    "Ans 4)\n",
    "\n",
    "* The correct entension of python is .py"
   ]
  },
  {
   "cell_type": "markdown",
   "id": "d7030228-042f-46f9-bb25-0af34fcd3a8a",
   "metadata": {},
   "source": [
    "Ans 5)\n",
    "\n",
    "* Python is an interpreted language"
   ]
  },
  {
   "cell_type": "markdown",
   "id": "6dfaf7d6-a8d5-4aa4-a9be-afe24398d1d9",
   "metadata": {},
   "source": [
    "Ans 6)\n",
    "\n",
    "Some of the examples of blocks of code used to define in python language are \n",
    "\n",
    "1. Functions\n",
    "2. Control flow statements\n",
    "3. Classes"
   ]
  },
  {
   "cell_type": "markdown",
   "id": "37910eae-9398-495b-a43d-6abfef4f4893",
   "metadata": {},
   "source": [
    "Ans 7)\n",
    "\n",
    "The hash symbol (#) is used to give single line comments in python "
   ]
  },
  {
   "cell_type": "markdown",
   "id": "974d963d-da1f-4c62-8ef2-989dc15a8fcb",
   "metadata": {},
   "source": [
    "Ans 8)\n",
    "\n",
    "* Functions which can help us to find the version of python we are working on are:\n",
    "\n",
    "1. Using sys.version method\n",
    "2. Using python_version() function\n",
    "3. Using Python -V command"
   ]
  },
  {
   "cell_type": "markdown",
   "id": "90221dac-cd63-4d17-bd75-e4428747fc0b",
   "metadata": {},
   "source": [
    "Ans 9)\n",
    "\n",
    "Python supports the creation of anonymous functions at runtime, using a construct called lambda expressions."
   ]
  },
  {
   "cell_type": "markdown",
   "id": "07fac48c-a82d-4bfe-853f-38fb3ec9624c",
   "metadata": {},
   "source": [
    "Ans 10)\n",
    "\n",
    "* pip stands for \"Pip Installs Packages\""
   ]
  },
  {
   "cell_type": "markdown",
   "id": "f5ca9650-da45-421e-aeaa-57916ce3d12e",
   "metadata": {},
   "source": [
    "Ans 11)\n",
    "\n",
    "* Python has many built-in functions that are available for use, some of them are:\n",
    "\n",
    "1. print(): Used to print output to the console.\n",
    "2. type(): Returns the data type of a variable or value.\n",
    "3. len(): Returns the length of a sequence such as a string or list.\n",
    "4. input(): Reads input from the user via the console.\n",
    "5. range(): Generates a sequence of numbers.\n",
    "6. sum(): Returns the sum of a sequence of numbers.\n",
    "7. max(): Returns the maximum value in a sequence.\n",
    "8. min(): Returns the minimum value in a sequence.\n",
    "\n",
    "\n"
   ]
  },
  {
   "cell_type": "markdown",
   "id": "66c5e29f-fdbe-4ee2-817a-e69d50d44dd6",
   "metadata": {},
   "source": [
    "Ans 12) \n",
    "\n",
    "* There is no maximum length of an identifier in python but it is always recommended keep the length of the identifier within reasonable limits to make the code more readable and maintainable.\n",
    "\n",
    "* According to the PEP 8 style guide, which is the official style guide for Python code, identifiers should be less than 79 characters in length"
   ]
  },
  {
   "cell_type": "markdown",
   "id": "28b16dd8-7045-4c4b-baa4-cb60672b4ffe",
   "metadata": {},
   "source": [
    "Ans 13)\n",
    "\n",
    "* Some of the benefits of using python language are:\n",
    "\n",
    "1. Easy to learn \n",
    "2. Open-source\n",
    "3. High level language\n",
    "4. Large standard library\n",
    "5. Garbage collection\n",
    "5. Versatile"
   ]
  },
  {
   "cell_type": "markdown",
   "id": "e3910b1a-287d-46a0-a414-b0a3605cad92",
   "metadata": {},
   "source": [
    "Ans 14)\n",
    "\n",
    "* The memory is managed in python by interpreter through a process called garbage collection"
   ]
  },
  {
   "cell_type": "markdown",
   "id": "b9d99586-d8b1-44c1-bb31-569b2ac28133",
   "metadata": {},
   "source": [
    "Ans 15)\n"
   ]
  },
  {
   "cell_type": "markdown",
   "id": "fe1a31f0-aa3c-4d52-ad28-2947417df450",
   "metadata": {},
   "source": [
    "Ans 16)\n",
    "\n",
    "* Yes, indentation is required in Python. Unlike other programming languages that use braces or keywords to delimit blocks of code, Python uses indentation to indicate the grouping of statements. In Python, a block of code is defined as a set of statements with the same level of indentation.\n"
   ]
  },
  {
   "cell_type": "code",
   "execution_count": null,
   "id": "6113c6db-9960-4587-badf-1d215bef1a74",
   "metadata": {},
   "outputs": [],
   "source": []
  }
 ],
 "metadata": {
  "kernelspec": {
   "display_name": "Python 3 (ipykernel)",
   "language": "python",
   "name": "python3"
  },
  "language_info": {
   "codemirror_mode": {
    "name": "ipython",
    "version": 3
   },
   "file_extension": ".py",
   "mimetype": "text/x-python",
   "name": "python",
   "nbconvert_exporter": "python",
   "pygments_lexer": "ipython3",
   "version": "3.10.8"
  }
 },
 "nbformat": 4,
 "nbformat_minor": 5
}
